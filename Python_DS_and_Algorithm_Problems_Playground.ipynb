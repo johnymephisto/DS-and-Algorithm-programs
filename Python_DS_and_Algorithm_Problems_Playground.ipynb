{
  "nbformat": 4,
  "nbformat_minor": 0,
  "metadata": {
    "colab": {
      "name": "Python DS and Algorithm Problems Playground.ipynb",
      "version": "0.3.2",
      "provenance": [],
      "collapsed_sections": [],
      "include_colab_link": true
    },
    "kernelspec": {
      "display_name": "Python 3",
      "language": "python",
      "name": "python3"
    }
  },
  "cells": [
    {
      "cell_type": "markdown",
      "metadata": {
        "id": "view-in-github",
        "colab_type": "text"
      },
      "source": [
        "<a href=\"https://colab.research.google.com/github/johnymephisto/DS-and-Algorithm-programs/blob/master/Python_DS_and_Algorithm_Problems_Playground.ipynb\" target=\"_parent\"><img src=\"https://colab.research.google.com/assets/colab-badge.svg\" alt=\"Open In Colab\"/></a>"
      ]
    },
    {
      "metadata": {
        "id": "dQrrJEXqck4f",
        "colab_type": "text"
      },
      "cell_type": "markdown",
      "source": [
        "# Python Algorithm Problems\n",
        "\n"
      ]
    },
    {
      "metadata": {
        "id": "rYLSeT07ck4i",
        "colab_type": "code",
        "outputId": "5abec43d-57ee-47c8-b5a9-d80c95df744e",
        "colab": {}
      },
      "cell_type": "code",
      "source": [
        "#Linked List in python\n",
        "class Node():\n",
        "    def __init__(self, val):\n",
        "        self.val = val\n",
        "        self.next = None\n",
        "        \n",
        "class LL():\n",
        "    def __init__(self, head_node):\n",
        "        self.head = head_node\n",
        "        \n",
        "    def print_items(self):\n",
        "        item = self.head\n",
        "        while(item is not None):\n",
        "            print(item.val)\n",
        "            item = item.next\n",
        "\n",
        "ll = LL(Node('mon'))\n",
        "\n",
        "t1 = Node('mon')\n",
        "t2 = Node('tue')\n",
        "t3 = Node('wed')\n",
        "t4 = Node('thu')\n",
        "\n",
        "t1.next = t2\n",
        "t2.next = t3\n",
        "t3.next = t4\n",
        "t4.next = t1\n",
        "\n",
        "ll = LL(t1)\n",
        "\n",
        "# ll.print_items()\n",
        "\n",
        "#check whether loop exist in linked list using FLoyd's Cycle Finding Algorithm\n",
        "def isLoop(l):\n",
        "    l1 = l.head.next\n",
        "    l2 = l.head.next.next\n",
        "    while(l1 is not None and l2 is not None):\n",
        "        if(l1 == l2):\n",
        "            return True\n",
        "        l1 = l1.next\n",
        "        l2 = l2.next.next\n",
        "    return False\n",
        "    \n",
        "print(isLoop(ll))"
      ],
      "execution_count": 0,
      "outputs": [
        {
          "output_type": "stream",
          "text": [
            "True\n"
          ],
          "name": "stdout"
        }
      ]
    },
    {
      "metadata": {
        "id": "AO2i8dDFck4p",
        "colab_type": "code",
        "outputId": "e31933d4-7ab7-479a-f630-05a935eb0fb1",
        "colab": {}
      },
      "cell_type": "code",
      "source": [
        "#MERGE SORT\n",
        "\n",
        "unordered_list = [2,7,3,5,0,1,4,6,1,1,213,35,6,7,3,73,7,54,734,6,83,42,43634,43]\n",
        "#divide\n",
        "def merge_sort(un_list):\n",
        "    \n",
        "    #to break when the list contains only one object\n",
        "    if(len(un_list) <= 1):\n",
        "        return un_list\n",
        "    \n",
        "    middle = len(un_list)//2\n",
        "    \n",
        "    left = un_list[:middle]\n",
        "    right = un_list[middle:]\n",
        "    \n",
        "    \n",
        "    \n",
        "    l = merge_sort(left)\n",
        "    r = merge_sort(right)\n",
        "    \n",
        "    return merge(l, r)\n",
        "\n",
        "#conquer\n",
        "\n",
        "def merge(left, right):\n",
        "    \n",
        "    res = []\n",
        "    while(len(left) is not 0 and len(right) is not 0):\n",
        "        if(left[0] <= right[0]):\n",
        "            res.append(left[0])\n",
        "            left.remove(left[0])\n",
        "            \n",
        "        else:\n",
        "            res.append(right[0])\n",
        "            right.remove(right[0])\n",
        "            \n",
        "    while(len(left) is not 0):\n",
        "        res.append(left[0])\n",
        "        left.remove(left[0])\n",
        "            \n",
        "    while(len(right) is not 0):\n",
        "        res.append(right[0])\n",
        "        right.remove(right[0])\n",
        "        \n",
        "    return res\n",
        "\n",
        "print(merge_sort(unordered_list))\n",
        "    \n",
        "\n"
      ],
      "execution_count": 0,
      "outputs": [
        {
          "output_type": "stream",
          "text": [
            "[0, 1, 1, 1, 2, 3, 3, 4, 5, 6, 6, 6, 7, 7, 7, 35, 42, 43, 54, 73, 83, 213, 734, 43634]\n"
          ],
          "name": "stdout"
        }
      ]
    },
    {
      "metadata": {
        "scrolled": false,
        "id": "XxX5ZOOack4s",
        "colab_type": "code",
        "outputId": "bddaaa1c-ebdb-4b24-d126-d6f1d85b5dbb",
        "colab": {}
      },
      "cell_type": "code",
      "source": [
        "#QUICK SORT\n",
        "\n",
        "def partition(arr, low, high):\n",
        "    small = (low - 1)\n",
        "    pivot = arr[high]\n",
        "    for j in range(low, high):\n",
        "        if(arr[j] <= pivot):\n",
        "            small = small + 1\n",
        "            arr[small], arr[j] = arr[j], arr[small]\n",
        "            \n",
        "    small+=1\n",
        "    arr[small], arr[high] = arr[high], arr[small]\n",
        "    return (small)\n",
        "\n",
        "def quicksort(arr, low, high):\n",
        "    if(low<high):\n",
        "        pi = partition(arr, low, high)\n",
        "        \n",
        "        quicksort(arr, low, pi-1)\n",
        "        quicksort(arr, pi+1, high)\n",
        "        \n",
        "        return arr\n",
        "        \n",
        "unordered_list = [2,7,3,5,0,1,4,6,1,1,213,35,6,7,3,73,7,54,734,6,83,42,43634,43]\n",
        "l = 0\n",
        "h = (len(unordered_list)-1)\n",
        "\n",
        "print(quicksort(unordered_list, l, h))\n",
        "            \n",
        "    \n",
        "        "
      ],
      "execution_count": 0,
      "outputs": [
        {
          "output_type": "stream",
          "text": [
            "[0, 1, 1, 1, 2, 3, 3, 4, 5, 6, 6, 6, 7, 7, 7, 35, 42, 43, 54, 73, 83, 213, 734, 43634]\n"
          ],
          "name": "stdout"
        }
      ]
    },
    {
      "metadata": {
        "id": "x7M76vOWck4w",
        "colab_type": "code",
        "outputId": "4e58cafd-5e41-4580-dc54-5055cddab7bc",
        "colab": {}
      },
      "cell_type": "code",
      "source": [
        "#maximum element in a subarray of size n\n",
        "\n",
        "#solved using sliding window implemented with Deque\n",
        "\n",
        "from collections import deque\n",
        "\n",
        "def findMax(arr, n):\n",
        "    Q = deque()\n",
        "    \n",
        "    res = []\n",
        "    \n",
        "    for index in range(n):\n",
        "        \n",
        "        while Q and arr[index] >= arr[Q[-1]]:\n",
        "            Q.pop()\n",
        "            \n",
        "        Q.append(index)\n",
        "        \n",
        "    for index in range(n, len(arr)):\n",
        "        \n",
        "        res.append(arr[Q[0]])\n",
        "        \n",
        "        #remove non window items\n",
        "        \n",
        "        while Q and Q[0] <= (index - n):\n",
        "            Q.popleft()\n",
        "        \n",
        "        #remove items less than max\n",
        "        while Q and arr[index] >= arr[Q[-1]]:\n",
        "            Q.pop()\n",
        "            \n",
        "        Q.append(index)\n",
        "      \n",
        "    res.append(arr[Q[0]])\n",
        "    return res\n",
        "\n",
        "arr = [1,3,4,5,67,6,7,38]\n",
        "\n",
        "print(findMax(arr, 3))\n"
      ],
      "execution_count": 0,
      "outputs": [
        {
          "output_type": "stream",
          "text": [
            "[4, 5, 67, 67, 67, 38]\n"
          ],
          "name": "stdout"
        }
      ]
    },
    {
      "metadata": {
        "id": "CYzdy-jpck40",
        "colab_type": "code",
        "outputId": "b3e5538e-d126-4167-c38f-729a85947214",
        "colab": {}
      },
      "cell_type": "code",
      "source": [
        "#find elementd occuring odd number of times\n",
        "\n",
        "def findOdd(arr):\n",
        "    res = 0\n",
        "    for item in arr:\n",
        "        res = res ^ item\n",
        "    return res\n",
        "\n",
        "arr = [1,2,3,2,1]\n",
        "findOdd(arr)"
      ],
      "execution_count": 0,
      "outputs": [
        {
          "output_type": "execute_result",
          "data": {
            "text/plain": [
              "3"
            ]
          },
          "metadata": {
            "tags": []
          },
          "execution_count": 90
        }
      ]
    },
    {
      "metadata": {
        "id": "g6qaDNJTck44",
        "colab_type": "code",
        "outputId": "c60fc617-a38d-4a88-ff38-5bc9d3a05fcd",
        "colab": {}
      },
      "cell_type": "code",
      "source": [
        "#find the next greater element in an array\n",
        "\n",
        "def findNextGreater(arr):\n",
        "    stack = []\n",
        "    stack.append(arr[0])\n",
        "    for item in arr[1:]:\n",
        "        while(stack and stack[-1]<item):\n",
        "            print(stack.pop(),' --> ',item)\n",
        "            \n",
        "        stack.append(item)\n",
        "    while stack:\n",
        "        print(stack.pop(), ' --> ',-1)\n",
        "        \n",
        "ar = [13,6,7,12]\n",
        "findNextGreater(ar)"
      ],
      "execution_count": 0,
      "outputs": [
        {
          "output_type": "stream",
          "text": [
            "6  -->  7\n",
            "7  -->  12\n",
            "12  -->  -1\n",
            "13  -->  -1\n"
          ],
          "name": "stdout"
        }
      ]
    },
    {
      "metadata": {
        "id": "maqmMO84ck47",
        "colab_type": "code",
        "outputId": "fbca2cf3-63a6-4d26-aae7-44f7a4629f40",
        "colab": {
          "base_uri": "https://localhost:8080/",
          "height": 34
        }
      },
      "cell_type": "code",
      "source": [
        "#edit distance -- string -- DP\n",
        "\n",
        "def findEditDistance(str1, str2, m, n):\n",
        "    '''\n",
        "    s1 s2\n",
        "    m  n\n",
        "    m-1 n-1 modify\n",
        "    m-1 n remove\n",
        "    m n-1 insert\n",
        "    '''\n",
        "    \n",
        "    dp = [[i for i in range(n+1)] for j in range(m+1)]\n",
        "    \n",
        "    for i in range(m+1):\n",
        "        for j in range(n+1):\n",
        "            \n",
        "            if(i is 0):\n",
        "                dp[i][j] = j\n",
        "            elif(j is 0):\n",
        "                dp[i][j] = i\n",
        "                \n",
        "            elif str1[i-1] == str2[j-1]:\n",
        "                dp[i][j] = dp[i-1][j-1]\n",
        "                \n",
        "            else:\n",
        "                dp[i][j] = 1 + min(dp[i][j-1], dp[i-1][j], dp[i-1][j-1])\n",
        "    return dp[m][n]\n",
        "    \n",
        "\n",
        "s1 = \"sunday\"\n",
        "s2 = \"saturday\"\n",
        "findEditDistance(s1, s2, len(s1), len(s2))    "
      ],
      "execution_count": 0,
      "outputs": [
        {
          "output_type": "execute_result",
          "data": {
            "text/plain": [
              "3"
            ]
          },
          "metadata": {
            "tags": []
          },
          "execution_count": 1
        }
      ]
    },
    {
      "metadata": {
        "id": "VUGN9fG1ck4_",
        "colab_type": "code",
        "outputId": "c0300579-02b1-4e15-9c34-be3367e37a8f",
        "colab": {}
      },
      "cell_type": "code",
      "source": [
        "#search in a sorted and rotated array\n",
        "\n",
        "arr = [3,4,5,0,1,2]\n",
        "\n",
        "def findInReverse(arr,low,high, key):\n",
        "    pi = findAxis(arr, low, high)\n",
        "    \n",
        "    if(not pi):\n",
        "        return binarySearch(arr, low, high, key)\n",
        "    \n",
        "    if(arr[pi] == key):\n",
        "        return pi\n",
        "    elif(arr[low]>key):\n",
        "        return binarySearch(arr, pi+1, high, key)\n",
        "    \n",
        "    return binarySearch(arr, low, pi-1, key)\n",
        "\n",
        "def binarySearch(arr, low, high, key):\n",
        "    mid = (low + high) // 2\n",
        "    \n",
        "    if(low>high):\n",
        "        return False\n",
        "    \n",
        "    if(arr[mid] == key):\n",
        "        return mid\n",
        "    \n",
        "    elif(arr[mid] > key):\n",
        "        return binarySearch(arr, low, mid-1, key)\n",
        "    \n",
        "    elif(arr[mid] < key):\n",
        "        return binarySearch(arr, mid+1, high, key)\n",
        "    \n",
        "    return False\n",
        "    \n",
        "def findAxis(arr, low, high):\n",
        "    \n",
        "    if(low>high):\n",
        "        return False\n",
        "    if(low == high):\n",
        "        return low\n",
        "    \n",
        "    mid = (low + high) // 2\n",
        "    \n",
        "    if(arr[mid] > arr[mid+1]):\n",
        "        return mid\n",
        "    if(arr[mid] < arr[mid-1]):\n",
        "        return mid-1\n",
        "    if(arr[mid]<arr[low]):\n",
        "        return findAxis(arr, low, mid-1)\n",
        "    \n",
        "    return findAxis(arr, mid+1, high)\n",
        "\n",
        "findInReverse(arr, 0, len(arr)-1, 5)"
      ],
      "execution_count": 0,
      "outputs": [
        {
          "output_type": "execute_result",
          "data": {
            "text/plain": [
              "2"
            ]
          },
          "metadata": {
            "tags": []
          },
          "execution_count": 126
        }
      ]
    },
    {
      "metadata": {
        "id": "QSCnBUeSck5C",
        "colab_type": "code",
        "outputId": "2009253c-e5e1-4e06-8377-ebde71a2d539",
        "colab": {
          "base_uri": "https://localhost:8080/",
          "height": 34
        }
      },
      "cell_type": "code",
      "source": [
        "#find running median in integer stream\n",
        "\n",
        "import heapq\n",
        "\n",
        "class MinHeap():\n",
        "  \n",
        "  def __init__(self):\n",
        "    self.heap = []\n",
        "    \n",
        "  def push(self, element):\n",
        "    heapq.heappush(self.heap, element)\n",
        "    \n",
        "  def pop(self):\n",
        "    return heapq.heappop(self.heap)\n",
        "  \n",
        "  def peek(self):\n",
        "    return self.heap[0]\n",
        "  \n",
        "  def __len__(self):\n",
        "    return len(self.heap)\n",
        "  \n",
        "class MaxHeap():\n",
        "  \n",
        "  def __init__(self):\n",
        "    self.heap = []\n",
        "    \n",
        "  def push(self, element):\n",
        "    heapq.heappush(self.heap, (element*-1))\n",
        "    \n",
        "  def pop(self):\n",
        "    return (heapq.heappop(self.heap))*-1\n",
        "  \n",
        "  def peek(self):\n",
        "    return (self.heap[0]) * -1\n",
        "  \n",
        "  def __len__(self):\n",
        "    return len(self.heap)\n",
        "\n",
        "def findMedian(element, median, left, right):\n",
        "  if(left.__len__() == right.__len__()):\n",
        "    if(element < median):\n",
        "      left.push(element)\n",
        "      median = left.peek()\n",
        "    else:\n",
        "      right.push(element)\n",
        "      median = right.peek()\n",
        "      \n",
        "  elif(left.__len__() > right.__len__()):\n",
        "    if(element < median):\n",
        "      right.push(left.pop())\n",
        "      left.push(element)\n",
        "    else:\n",
        "      right.push(element)\n",
        "    median = (left.peek() + right.peek()) // 2\n",
        "  \n",
        "  elif(left.__len__() < right.__len__()):\n",
        "    if(element < median):\n",
        "      left.push(element)\n",
        "    else:\n",
        "      left.push(right.pop())\n",
        "      right.push(element)\n",
        "    median = (left.peek() + right.peek()) // 2\n",
        "    \n",
        "      \n",
        "  return median\n",
        "\n",
        "right = MinHeap()\n",
        "left = MaxHeap()\n",
        "\n",
        "array = [5, 15, 1, 3, 2, 8, 7, 9, 10, 6, 11, 4]\n",
        "m = 0\n",
        "res = []\n",
        "for element in array:\n",
        "  m = findMedian(element, m, left, right)\n",
        "  res.append(m)\n",
        "print(*res, sep=' ')\n"
      ],
      "execution_count": 0,
      "outputs": [
        {
          "output_type": "stream",
          "text": [
            "5 10 5 4 3 4 5 6 7 6 7 6\n"
          ],
          "name": "stdout"
        }
      ]
    },
    {
      "metadata": {
        "id": "5dKbUgcHC9hv",
        "colab_type": "code",
        "colab": {
          "base_uri": "https://localhost:8080/",
          "height": 34
        },
        "outputId": "9fb5bc30-d5c0-4e14-961a-b66e4d4960f9"
      },
      "cell_type": "code",
      "source": [
        "#find maximum bitwise AND in a set of N natural numbers and it should be under max value K\n",
        "#HackerRank 30 days of code Day 29 question\n",
        "#optimal solution, accepted\n",
        "#!/bin/python3\n",
        "\n",
        "import math\n",
        "import os\n",
        "import random\n",
        "import re\n",
        "import sys\n",
        "\n",
        "def maxAnd(N, K):\n",
        "    cur_max = K-1\n",
        "    while cur_max > 0:\n",
        "        for i in range(cur_max+1, N+1):\n",
        "            h = cur_max & i\n",
        "            if h == cur_max:\n",
        "                return cur_max\n",
        "        cur_max-=1\n",
        "    return 0\n",
        "\n",
        "if __name__ == '__main__':\n",
        "    N = 5\n",
        "\n",
        "    K = 3\n",
        "\n",
        "    print(maxAnd(N, K))"
      ],
      "execution_count": 3,
      "outputs": [
        {
          "output_type": "stream",
          "text": [
            "2\n"
          ],
          "name": "stdout"
        }
      ]
    },
    {
      "metadata": {
        "id": "grZcr0AtCn2F",
        "colab_type": "code",
        "colab": {}
      },
      "cell_type": "code",
      "source": [
        ""
      ],
      "execution_count": 0,
      "outputs": []
    }
  ]
}