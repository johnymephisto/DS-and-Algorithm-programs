{
  "nbformat": 4,
  "nbformat_minor": 0,
  "metadata": {
    "colab": {
      "name": "Python Leetcode solutions",
      "version": "0.3.2",
      "provenance": [],
      "collapsed_sections": [],
      "include_colab_link": true
    },
    "kernelspec": {
      "name": "python3",
      "display_name": "Python 3"
    }
  },
  "cells": [
    {
      "cell_type": "markdown",
      "metadata": {
        "id": "view-in-github",
        "colab_type": "text"
      },
      "source": [
        "<a href=\"https://colab.research.google.com/github/johnymephisto/DS-and-Algorithm-programs/blob/master/Python_Leetcode_solutions.ipynb\" target=\"_parent\"><img src=\"https://colab.research.google.com/assets/colab-badge.svg\" alt=\"Open In Colab\"/></a>"
      ]
    },
    {
      "metadata": {
        "id": "nUfY3RcWB6X8",
        "colab_type": "text"
      },
      "cell_type": "markdown",
      "source": [
        "#Leetcode problems and solutions in Python3"
      ]
    },
    {
      "metadata": {
        "id": "qb10UjBSB74L",
        "colab_type": "text"
      },
      "cell_type": "markdown",
      "source": [
        "1  [Two sum](https://leetcode.com/problems/two-sum/)"
      ]
    },
    {
      "metadata": {
        "id": "fLsetKpRBzq5",
        "colab_type": "code",
        "colab": {}
      },
      "cell_type": "code",
      "source": [
        "class Solution:\n",
        "    def twoSum(self, nums, target):\n",
        "        \"\"\"\n",
        "        :type nums: List[int]\n",
        "        :type target: int\n",
        "        :rtype: List[int]\n",
        "        \"\"\"\n",
        "        \n",
        "        #hashmap for keeping elements already encountered\n",
        "        m = {}\n",
        "        \n",
        "        for index in range(0, nums.__len__()):\n",
        "            com = target - nums[index]\n",
        "            if(com in m):\n",
        "                return [index, m[com]]\n",
        "            \n",
        "            m[nums[index]] = index"
      ],
      "execution_count": 0,
      "outputs": []
    },
    {
      "metadata": {
        "id": "GFRonlTKCaAq",
        "colab_type": "text"
      },
      "cell_type": "markdown",
      "source": [
        "2  [Add two numbers](https://leetcode.com/problems/add-two-numbers)"
      ]
    },
    {
      "metadata": {
        "id": "Qwo8iNbiCau6",
        "colab_type": "code",
        "colab": {}
      },
      "cell_type": "code",
      "source": [
        "# Definition for singly-linked list.\n",
        "# class ListNode:\n",
        "#     def __init__(self, x):\n",
        "#         self.val = x\n",
        "#         self.next = None\n",
        "\n",
        "class Solution:\n",
        "    def addTwoNumbers(self, l1, l2):\n",
        "        \"\"\"\n",
        "        :type l1: ListNode\n",
        "        :type l2: ListNode\n",
        "        :rtype: ListNode\n",
        "        \"\"\"\n",
        "        headNode = ListNode(0)\n",
        "        \n",
        "        currNode = headNode\n",
        "        carry = 0 \n",
        "        while(l1 is not None or l2 is not None):\n",
        "            x = l1.val if (l1 is not None) else 0 \n",
        "            y = l2.val if (l2 is not None) else 0 \n",
        "            su = x + y + carry\n",
        "            \n",
        "            carry = su//10\n",
        "                \n",
        "            new_node = ListNode(su%10)\n",
        "            currNode.next = new_node\n",
        "            currNode = currNode.next\n",
        "            \n",
        "            if(l1 is not None):\n",
        "                l1 = l1.next\n",
        "            if(l2 is not None):\n",
        "                l2 = l2.next\n",
        "        \n",
        "        \n",
        "                \n",
        "        if(carry > 0):\n",
        "            new_node = ListNode(carry)  \n",
        "            currNode.next = new_node\n",
        "            \n",
        "        return headNode.next"
      ],
      "execution_count": 0,
      "outputs": []
    },
    {
      "metadata": {
        "id": "Iuxg28kMCj8q",
        "colab_type": "text"
      },
      "cell_type": "markdown",
      "source": [
        "3  [Longest Substring Without Repeating Characters](https://leetcode.com/problems/longest-substring-without-repeating-characters/)"
      ]
    },
    {
      "metadata": {
        "id": "9hCo3YR8Csji",
        "colab_type": "code",
        "colab": {}
      },
      "cell_type": "code",
      "source": [
        "class Solution:\n",
        "    def lengthOfLongestSubstring(self, s):\n",
        "        \"\"\"\n",
        "        :type s: str\n",
        "        :rtype: int\n",
        "        \"\"\"\n",
        "       \n",
        "        ma = 0\n",
        "        \n",
        "        dic = {}\n",
        "        start = 0\n",
        "        \n",
        "        for end in range(len(s)):\n",
        "            if(s[end] in dic):\n",
        "                start = max(dic[s[end]] , start)\n",
        "            \n",
        "            ma = max(ma, end-start+1)\n",
        "            dic[s[end]] = end+1\n",
        "            \n",
        "        return ma"
      ],
      "execution_count": 0,
      "outputs": []
    },
    {
      "metadata": {
        "id": "k4K3dpK0rWPI",
        "colab_type": "text"
      },
      "cell_type": "markdown",
      "source": [
        "6  [ZigZag Conversion](https://leetcode.com/problems/zigzag-conversion)"
      ]
    },
    {
      "metadata": {
        "id": "1xjXyqhgrajI",
        "colab_type": "code",
        "colab": {}
      },
      "cell_type": "code",
      "source": [
        "class Solution:\n",
        "    def convert(self, s, numRows):\n",
        "        \"\"\"\n",
        "        :type s: str\n",
        "        :type numRows: int\n",
        "        :rtype: str\n",
        "        \"\"\"\n",
        "        \n",
        "        if(len(s) < numRows or numRows == 1):\n",
        "            return s\n",
        "        res = [''] * numRows\n",
        "        index = 0\n",
        "        direction = 1\n",
        "        \n",
        "        for char in s:\n",
        "            res[index] += char\n",
        "            if index == 0:\n",
        "                direction = 1\n",
        "            elif index == numRows-1:\n",
        "                direction = -1\n",
        "                \n",
        "            index += direction\n",
        "            \n",
        "        return ''.join(res)"
      ],
      "execution_count": 0,
      "outputs": []
    },
    {
      "metadata": {
        "id": "kDD-cqwBDH8C",
        "colab_type": "text"
      },
      "cell_type": "markdown",
      "source": [
        "7  [Reverse Integer](https://leetcode.com/problems/reverse-integer/)"
      ]
    },
    {
      "metadata": {
        "id": "v-OlMwYSDHeS",
        "colab_type": "code",
        "colab": {}
      },
      "cell_type": "code",
      "source": [
        "class Solution:\n",
        "    def reverse(self, x):\n",
        "        \"\"\"\n",
        "        :type x: int\n",
        "        :rtype: int\n",
        "        \"\"\"\n",
        "        \n",
        "        max_32_int = 2147483647\n",
        "        min_32_int = -2147483648\n",
        "        result = int(str(x)[::-1]) if x > 0 else -int(str(x)[::-1].replace('-', ''))\n",
        "        if result > max_32_int or result < min_32_int:\n",
        "            result = 0\n",
        "        return result"
      ],
      "execution_count": 0,
      "outputs": []
    },
    {
      "metadata": {
        "id": "PM98lGAAxawo",
        "colab_type": "text"
      },
      "cell_type": "markdown",
      "source": [
        "8  [String to Integer (atoi)](https://leetcode.com/problems/string-to-integer-atoi/)"
      ]
    },
    {
      "metadata": {
        "id": "nASomLXYxZ9Z",
        "colab_type": "code",
        "colab": {}
      },
      "cell_type": "code",
      "source": [
        "class Solution:\n",
        "    \n",
        "    def __init__(self):\n",
        "    \n",
        "        self.MAX_INT = 2147483647\n",
        "        self.MIN_INT = -2147483648\n",
        "        self.pattern = '(^[\\+\\-0]*\\d+)\\D*'\n",
        "\n",
        "    def myAtoi(self, str):\n",
        "        \n",
        "\n",
        "        try:\n",
        "            result = int(''.join(re.findall(self.pattern, str.strip())))\n",
        "            \n",
        "            if result > self.MAX_INT > 0:\n",
        "                return self.MAX_INT\n",
        "            elif result < self.MIN_INT < 0:\n",
        "                return self.MIN_INT\n",
        "            else:\n",
        "                return result\n",
        "        except:\n",
        "            return 0"
      ],
      "execution_count": 0,
      "outputs": []
    },
    {
      "metadata": {
        "id": "yFy6R3ITzt5K",
        "colab_type": "text"
      },
      "cell_type": "markdown",
      "source": [
        "9  [Palindrome Number](https://leetcode.com/problems/palindrome-number/)"
      ]
    },
    {
      "metadata": {
        "id": "83yT5CMlztaT",
        "colab_type": "code",
        "colab": {}
      },
      "cell_type": "code",
      "source": [
        "class Solution:\n",
        "    def isPalindrome(self, x):\n",
        "        \"\"\"\n",
        "        :type x: int\n",
        "        :rtype: bool\n",
        "        \"\"\"\n",
        "        \n",
        "        if(x<0 or (x%10==0 and x!=0)):\n",
        "            return False\n",
        "        ne = 0\n",
        "        while x > ne:\n",
        "            ne = (ne*10) + (x%10)\n",
        "            x//=10\n",
        "            \n",
        "        return x==ne or x==ne//10"
      ],
      "execution_count": 0,
      "outputs": []
    },
    {
      "metadata": {
        "id": "36GvlZTfDY-q",
        "colab_type": "text"
      },
      "cell_type": "markdown",
      "source": [
        "11  [Container With Most Water](https://leetcode.com/problems/container-with-most-water/)"
      ]
    },
    {
      "metadata": {
        "id": "BozwaaivDd7R",
        "colab_type": "code",
        "colab": {}
      },
      "cell_type": "code",
      "source": [
        "class Solution:\n",
        "    def maxArea(self, height):\n",
        "        \"\"\"\n",
        "        :type height: List[int]\n",
        "        :rtype: int\n",
        "        \"\"\"\n",
        "        \n",
        "        m = l = 0\n",
        "        r = height.__len__() - 1\n",
        "        \n",
        "        while(l<r):\n",
        "            m = max(m , min(height[l], height[r]) * (r-l))\n",
        "            if(height[l] < height[r]):\n",
        "                l+=1\n",
        "            else:\n",
        "                r-=1\n",
        "        return m\n",
        "        "
      ],
      "execution_count": 0,
      "outputs": []
    },
    {
      "metadata": {
        "id": "3d7HGVzR0ADH",
        "colab_type": "text"
      },
      "cell_type": "markdown",
      "source": [
        "13 [Roman to Integer](https://leetcode.com/problems/roman-to-integer/)"
      ]
    },
    {
      "metadata": {
        "id": "_KzNwBejz_pR",
        "colab_type": "code",
        "colab": {}
      },
      "cell_type": "code",
      "source": [
        "class Solution:\n",
        "    def romanToInt(self, s):\n",
        "        \"\"\"\n",
        "        :type s: str\n",
        "        :rtype: int\n",
        "        \"\"\"\n",
        "        if not s:\n",
        "            return 0\n",
        "        nums = {\n",
        "            'I' : 1,\n",
        "            'V' : 5,\n",
        "            'X' : 10,\n",
        "            'L' : 50,\n",
        "            'C' : 100,\n",
        "            'D' : 500,\n",
        "            'M' : 1000\n",
        "        }\n",
        "        number = nums[s[0]]\n",
        "        \n",
        "        for index in range(1, len(s)):\n",
        "            \n",
        "            if nums[s[index]] <= nums[s[index-1]]:\n",
        "                number += nums[s[index]] \n",
        "                \n",
        "            else:\n",
        "                number += nums[s[index]]  - ( nums[s[index-1]] * 2 ) \n",
        "                \n",
        "        return number"
      ],
      "execution_count": 0,
      "outputs": []
    },
    {
      "metadata": {
        "id": "K8YeK0qn6oOo",
        "colab_type": "text"
      },
      "cell_type": "markdown",
      "source": [
        "14 [Longest Common Prefix](https://leetcode.com/problems/longest-common-prefix/)"
      ]
    },
    {
      "metadata": {
        "id": "CQLsHV9P6nrd",
        "colab_type": "code",
        "colab": {}
      },
      "cell_type": "code",
      "source": [
        "class Solution:\n",
        "    def longestCommonPrefix(self, string_list):\n",
        "        if not string_list: \n",
        "            return ''\n",
        "        min_string = min(string_list)\n",
        "        max_string = max(string_list)\n",
        "\n",
        "        for index in range(len(min_string)):\n",
        "            if min_string[index] is not max_string[index]:\n",
        "                return min_string[:index]\n",
        "            \n",
        "        return min_string"
      ],
      "execution_count": 0,
      "outputs": []
    },
    {
      "metadata": {
        "id": "MlqcozIwe72g",
        "colab_type": "text"
      },
      "cell_type": "markdown",
      "source": [
        "17 [Letter Combinations of a Phone Number\n",
        "](https://leetcode.com/problems/letter-combinations-of-a-phone-number/)"
      ]
    },
    {
      "metadata": {
        "id": "KJhE9acje7QC",
        "colab_type": "code",
        "colab": {}
      },
      "cell_type": "code",
      "source": [
        "class Solution:\n",
        "    \n",
        "    def __init__(self):\n",
        "        self.phone = {'2': ['a', 'b', 'c'],\n",
        "                 '3': ['d', 'e', 'f'],\n",
        "                 '4': ['g', 'h', 'i'],\n",
        "                 '5': ['j', 'k', 'l'],\n",
        "                 '6': ['m', 'n', 'o'],\n",
        "                 '7': ['p', 'q', 'r', 's'],\n",
        "                 '8': ['t', 'u', 'v'],\n",
        "                 '9': ['w', 'x', 'y', 'z']}\n",
        "        self.resultlist = []\n",
        "        \n",
        "    def combine(self, combination, digits):\n",
        "        if(not digits):\n",
        "            self.resultlist.append(combination)\n",
        "            \n",
        "        else:\n",
        "            for char in self.phone[digits[0]]:\n",
        "                self.combine(combination + char, digits[1:])\n",
        "                \n",
        "    \n",
        "    def letterCombinations(self, digits):\n",
        "        \"\"\"\n",
        "        :type digits: str\n",
        "        :rtype: List[str]\n",
        "        \"\"\"\n",
        "        if digits:\n",
        "            self.combine('', digits)\n",
        "            \n",
        "        return self.resultlist"
      ],
      "execution_count": 0,
      "outputs": []
    },
    {
      "metadata": {
        "id": "32UNo47M7qgm",
        "colab_type": "text"
      },
      "cell_type": "markdown",
      "source": [
        "19 [Remove Nth Node From End of List](https://leetcode.com/problems/remove-nth-node-from-end-of-list/)"
      ]
    },
    {
      "metadata": {
        "id": "01DPmunL7prf",
        "colab_type": "code",
        "colab": {}
      },
      "cell_type": "code",
      "source": [
        "# Definition for singly-linked list.\n",
        "# class ListNode:\n",
        "#     def __init__(self, x):\n",
        "#         self.val = x\n",
        "#         self.next = None\n",
        "\n",
        "class Solution:\n",
        "    def removeNthFromEnd(self, head, n):\n",
        "        \"\"\"\n",
        "        :type head: ListNode\n",
        "        :type n: int\n",
        "        :rtype: ListNode\n",
        "        \"\"\"\n",
        "        \n",
        "        first = second = head\n",
        "        \n",
        "        #reach the nth node using first node\n",
        "        for _ in range(n):\n",
        "            first = first.next\n",
        "            \n",
        "        #if nth node is None\n",
        "        if not first:\n",
        "            return head.next\n",
        "        \n",
        "        \n",
        "        while first.next:\n",
        "            first = first.next\n",
        "            second = second.next\n",
        "            \n",
        "        \n",
        "        second.next = second.next.next\n",
        "        return head"
      ],
      "execution_count": 0,
      "outputs": []
    },
    {
      "metadata": {
        "id": "Q5lOofSpE_yB",
        "colab_type": "text"
      },
      "cell_type": "markdown",
      "source": [
        "20  [Valid Parentheses](https://leetcode.com/problems/valid-parentheses/)"
      ]
    },
    {
      "metadata": {
        "id": "cpNkCbv6FF6A",
        "colab_type": "code",
        "colab": {}
      },
      "cell_type": "code",
      "source": [
        "class Solution:\n",
        "    def isValid(self, s):\n",
        "        \"\"\"\n",
        "        :type s: str\n",
        "        :rtype: bool\n",
        "        \"\"\"\n",
        "        stack = []\n",
        "        \n",
        "        mapping = {\")\": \"(\", \"}\": \"{\", \"]\": \"[\"}\n",
        "        \n",
        "        for char in s:\n",
        "            \n",
        "            if char in mapping:\n",
        "                top_element = stack.pop() if stack else '#'\n",
        "                \n",
        "                if mapping[char] != top_element:\n",
        "                    return False\n",
        "            else:\n",
        "                stack.append(char)\n",
        "                \n",
        "        return not stack\n",
        "            "
      ],
      "execution_count": 0,
      "outputs": []
    },
    {
      "metadata": {
        "id": "S23uwj7QB1m0",
        "colab_type": "text"
      },
      "cell_type": "markdown",
      "source": [
        "21 [Merge Two Sorted Lists](https://leetcode.com/problems/merge-two-sorted-lists/)"
      ]
    },
    {
      "metadata": {
        "id": "RlzAub1lB1GM",
        "colab_type": "code",
        "colab": {}
      },
      "cell_type": "code",
      "source": [
        "# Definition for singly-linked list.\n",
        "# class ListNode:\n",
        "#     def __init__(self, x):\n",
        "#         self.val = x\n",
        "#         self.next = None\n",
        "\n",
        "class Solution:\n",
        "    def mergeTwoLists(self, l1, l2):\n",
        "        \"\"\"\n",
        "        :type l1: ListNode\n",
        "        :type l2: ListNode\n",
        "        :rtype: ListNode\n",
        "        \"\"\"\n",
        "        \n",
        "        resNode = ListNode(0)\n",
        "        dummy = resNode\n",
        "        while(l1 and l2):\n",
        "            \n",
        "            if(l1.val <= l2.val):\n",
        "                resNode.next = ListNode(l1.val)\n",
        "                resNode = resNode.next\n",
        "                l1 = l1.next\n",
        "                continue\n",
        "            else:\n",
        "                resNode.next = ListNode(l2.val)\n",
        "                resNode = resNode.next\n",
        "                l2 = l2.next\n",
        "        \n",
        "        if(l1):\n",
        "            resNode.next = l1\n",
        "        if(l2):\n",
        "            resNode.next = l2\n",
        "                \n",
        "        return dummy.next"
      ],
      "execution_count": 0,
      "outputs": []
    },
    {
      "metadata": {
        "id": "dJkYr-ctJVUC",
        "colab_type": "text"
      },
      "cell_type": "markdown",
      "source": [
        "23 [Merge k Sorted Lists](https://leetcode.com/problems/merge-k-sorted-lists/)"
      ]
    },
    {
      "metadata": {
        "id": "LyFp2pAoJU4b",
        "colab_type": "code",
        "colab": {}
      },
      "cell_type": "code",
      "source": [
        "# Definition for singly-linked list.\n",
        "# class ListNode(object):\n",
        "#     def __init__(self, x):\n",
        "#         self.val = x\n",
        "#         self.next = None\n",
        "\n",
        "from Queue import PriorityQueue\n",
        "\n",
        "class Solution(object):\n",
        "    def mergeKLists(self, lists):\n",
        "        \"\"\"\n",
        "        :type lists: List[ListNode]\n",
        "        :rtype: ListNode\n",
        "        \"\"\"\n",
        "        res = dummy = ListNode(0)\n",
        "        Q = PriorityQueue()\n",
        "        for l in lists:\n",
        "            if l:\n",
        "                Q.put((l.val, l))\n",
        "                \n",
        "        while not Q.empty():\n",
        "            val, node = Q.get()\n",
        "            dummy.next = ListNode(val)\n",
        "            dummy = dummy.next\n",
        "            node = node.next\n",
        "            if node:\n",
        "                Q.put((node.val, node))\n",
        "                \n",
        "        return res.next"
      ],
      "execution_count": 0,
      "outputs": []
    },
    {
      "metadata": {
        "id": "ClMooW3BMzjX",
        "colab_type": "text"
      },
      "cell_type": "markdown",
      "source": [
        "24 [Swap Nodes in Pairs](https://leetcode.com/problems/swap-nodes-in-pairs/)"
      ]
    },
    {
      "metadata": {
        "id": "9w_1ytVrMzHe",
        "colab_type": "code",
        "colab": {}
      },
      "cell_type": "code",
      "source": [
        "# Definition for singly-linked list.\n",
        "# class ListNode(object):\n",
        "#     def __init__(self, x):\n",
        "#         self.val = x\n",
        "#         self.next = None\n",
        "\n",
        "class Solution(object):\n",
        "    def swapPairs(self, head):\n",
        "        \"\"\"\n",
        "        :type head: ListNode\n",
        "        :rtype: ListNode\n",
        "        \"\"\"\n",
        "        \n",
        "        res = dummy = ListNode(0)\n",
        "        \n",
        "        res.next = node = head\n",
        "        \n",
        "        while(node and node.next):\n",
        "            #swap using dummy as a previous node\n",
        "            dummy.next = node.next\n",
        "            node.next = node.next.next\n",
        "            dummy.next.next = node\n",
        "            \n",
        "            #propagate through the list\n",
        "            dummy = node\n",
        "            node = node.next\n",
        "            \n",
        "        return res.next\n",
        "        "
      ],
      "execution_count": 0,
      "outputs": []
    },
    {
      "metadata": {
        "id": "z8M0oUMcFvW3",
        "colab_type": "text"
      },
      "cell_type": "markdown",
      "source": [
        "26  [Remove Duplicates from Sorted Array](https://leetcode.com/problems/remove-duplicates-from-sorted-array)"
      ]
    },
    {
      "metadata": {
        "id": "aNO_myRyFvxo",
        "colab_type": "code",
        "colab": {}
      },
      "cell_type": "code",
      "source": [
        "class Solution:\n",
        "    def removeDuplicates(self, nums):\n",
        "        \"\"\"\n",
        "        :type nums: List[int]\n",
        "        :rtype: int\n",
        "        \"\"\"\n",
        "        if(len(nums) == 0):\n",
        "            return 0\n",
        "        i = 0\n",
        "        for j in range(len(nums)):\n",
        "            if nums[j] != nums[i]:\n",
        "                i+=1\n",
        "                nums[i] = nums[j]\n",
        "        \n",
        "        return i+1"
      ],
      "execution_count": 0,
      "outputs": []
    },
    {
      "metadata": {
        "id": "gtVGj3nAaTJU",
        "colab_type": "text"
      },
      "cell_type": "markdown",
      "source": [
        "27 [Remove Element](https://leetcode.com/problems/remove-element/)"
      ]
    },
    {
      "metadata": {
        "id": "6yhd555kaSoD",
        "colab_type": "code",
        "colab": {}
      },
      "cell_type": "code",
      "source": [
        "class Solution:\n",
        "    def removeElement(self, nums, val):\n",
        "        \"\"\"\n",
        "        :type nums: List[int]\n",
        "        :type val: int\n",
        "        :rtype: int\n",
        "        \"\"\"\n",
        "        new_index = 0 \n",
        "        \n",
        "        for index in range(len(nums)):\n",
        "            if(nums[index]!=val):\n",
        "                nums[new_index] = nums[index]\n",
        "                new_index += 1\n",
        "                \n",
        "        return new_index"
      ],
      "execution_count": 0,
      "outputs": []
    },
    {
      "metadata": {
        "id": "df4XVEjgbb7b",
        "colab_type": "text"
      },
      "cell_type": "markdown",
      "source": [
        "28 [Implement strStr()](https://leetcode.com/problems/implement-strstr/)"
      ]
    },
    {
      "metadata": {
        "id": "quJN29KLbbVd",
        "colab_type": "code",
        "colab": {}
      },
      "cell_type": "code",
      "source": [
        "class Solution:\n",
        "    def strStr(self, haystack, needle):\n",
        "        \"\"\"\n",
        "        :type haystack: str\n",
        "        :type needle: str\n",
        "        :rtype: int\n",
        "        \"\"\"\n",
        "        if len(needle) == 0:\n",
        "            return 0\n",
        "        \n",
        "        for index in range(len(haystack)-len(needle)+1):\n",
        "            if haystack[index:index + len(needle)] == needle:\n",
        "                return index\n",
        "        return -1"
      ],
      "execution_count": 0,
      "outputs": []
    },
    {
      "metadata": {
        "id": "urHinR5oqJGe",
        "colab_type": "text"
      },
      "cell_type": "markdown",
      "source": [
        "83 [Remove Duplicates from Sorted List](https://leetcode.com/problems/remove-duplicates-from-sorted-list/)"
      ]
    },
    {
      "metadata": {
        "id": "FIBmSel5qIyB",
        "colab_type": "code",
        "colab": {}
      },
      "cell_type": "code",
      "source": [
        "# Definition for singly-linked list.\n",
        "# class ListNode:\n",
        "#     def __init__(self, x):\n",
        "#         self.val = x\n",
        "#         self.next = None\n",
        "\n",
        "class Solution:\n",
        "    def deleteDuplicates(self, head):\n",
        "        \"\"\"\n",
        "        :type head: ListNode\n",
        "        :rtype: ListNode\n",
        "        \"\"\"\n",
        "        res = ListNode(0)\n",
        "        \n",
        "        res.next = dummy = head\n",
        "        while(dummy):\n",
        "            if(dummy.next and dummy.val == dummy.next.val):\n",
        "                node = dummy.next\n",
        "                dummy.next = node.next\n",
        "                del node\n",
        "                \n",
        "            else:\n",
        "                dummy = dummy.next\n",
        "        return res.next"
      ],
      "execution_count": 0,
      "outputs": []
    },
    {
      "metadata": {
        "id": "xxWxBsZUSNcV",
        "colab_type": "text"
      },
      "cell_type": "markdown",
      "source": [
        "104 [Maximum Depth of Binary Tree](https://leetcode.com/problems/maximum-depth-of-binary-tree/)"
      ]
    },
    {
      "metadata": {
        "id": "Z5_Gk4rMSMvn",
        "colab_type": "code",
        "colab": {}
      },
      "cell_type": "code",
      "source": [
        "# Definition for a binary tree node.\n",
        "# class TreeNode:\n",
        "#     def __init__(self, x):\n",
        "#         self.val = x\n",
        "#         self.left = None\n",
        "#         self.right = None\n",
        "\n",
        "class Solution:\n",
        "    def maxDepth(self, root):\n",
        "        \"\"\"\n",
        "        :type root: TreeNode\n",
        "        :rtype: int\n",
        "        \"\"\"\n",
        "        \n",
        "        if not root:\n",
        "            return 0\n",
        "        \n",
        "        else:\n",
        "            return 1 + max(self.maxDepth(root.left), self.maxDepth(root.right))"
      ],
      "execution_count": 0,
      "outputs": []
    },
    {
      "metadata": {
        "id": "tTxQqbM7gDmE",
        "colab_type": "text"
      },
      "cell_type": "markdown",
      "source": [
        "111 [Minimum Depth of Binary Tree](https://leetcode.com/problems/minimum-depth-of-binary-tree/)"
      ]
    },
    {
      "metadata": {
        "id": "7nH9E4NPgDIN",
        "colab_type": "code",
        "colab": {}
      },
      "cell_type": "code",
      "source": [
        "# Definition for a binary tree node.\n",
        "# class TreeNode:\n",
        "#     def __init__(self, x):\n",
        "#         self.val = x\n",
        "#         self.left = None\n",
        "#         self.right = None\n",
        "\n",
        "class Solution:\n",
        "    def minDepth(self, root):\n",
        "        \"\"\"\n",
        "        :type root: TreeNode\n",
        "        :rtype: int\n",
        "        \"\"\"\n",
        "        \n",
        "        if not root:\n",
        "            return 0\n",
        "        \n",
        "        elif root.left==None or root.right==None:\n",
        "            return self.minDepth(root.left)+self.minDepth(root.right)+1\n",
        "        \n",
        "        else:\n",
        "            return 1+ min(self.minDepth(root.left), self.minDepth(root.right))"
      ],
      "execution_count": 0,
      "outputs": []
    },
    {
      "metadata": {
        "id": "HHWTc70mLmxV",
        "colab_type": "text"
      },
      "cell_type": "markdown",
      "source": [
        "136 [Single Number](https://leetcode.com/problems/single-number/)"
      ]
    },
    {
      "metadata": {
        "id": "HNcB_PEELmIy",
        "colab_type": "code",
        "colab": {}
      },
      "cell_type": "code",
      "source": [
        "class Solution:\n",
        "    def singleNumber(self, nums):\n",
        "        \"\"\"\n",
        "        :type nums: List[int]\n",
        "        :rtype: int\n",
        "        \"\"\"\n",
        "        \n",
        "        res = 0\n",
        "        for item in nums:\n",
        "            res^=item \n",
        "        \n",
        "        return res"
      ],
      "execution_count": 0,
      "outputs": []
    },
    {
      "metadata": {
        "id": "NlyIjAA2op41",
        "colab_type": "text"
      },
      "cell_type": "markdown",
      "source": [
        "167 [Two Sum II - Input array is sorted](https://leetcode.com/problems/two-sum-ii-input-array-is-sorted/)"
      ]
    },
    {
      "metadata": {
        "id": "WQFysEkTopba",
        "colab_type": "code",
        "colab": {}
      },
      "cell_type": "code",
      "source": [
        "class Solution:\n",
        "    def twoSum(self, numbers, target):\n",
        "        \"\"\"\n",
        "        :type numbers: List[int]\n",
        "        :type target: int\n",
        "        :rtype: List[int]\n",
        "        \"\"\"\n",
        "        i, j = 0, len(numbers)-1\n",
        "        \n",
        "        while i<j:\n",
        "            s = numbers[i] + numbers[j]\n",
        "            if(s == target):\n",
        "                return [i+1, j+1]\n",
        "            elif(s < target):\n",
        "                i+=1\n",
        "            elif(s > target):\n",
        "                j-=1\n",
        "                \n",
        "        return []"
      ],
      "execution_count": 0,
      "outputs": []
    },
    {
      "metadata": {
        "id": "N1B5vexkObvh",
        "colab_type": "text"
      },
      "cell_type": "markdown",
      "source": [
        "268 [Missing Number](https://leetcode.com/problems/missing-number/)"
      ]
    },
    {
      "metadata": {
        "id": "h28w17NLObOo",
        "colab_type": "code",
        "colab": {}
      },
      "cell_type": "code",
      "source": [
        "class Solution:\n",
        "    def missingNumber(self, nums):\n",
        "        \"\"\"\n",
        "        :type nums: List[int]\n",
        "        :rtype: int\n",
        "        \"\"\"\n",
        "        \n",
        "        n = len(nums)\n",
        "            \n",
        "        exp = int((n * (n+1))/2)\n",
        "        act = sum(nums)\n",
        "        \n",
        "        return exp - act"
      ],
      "execution_count": 0,
      "outputs": []
    },
    {
      "metadata": {
        "id": "4bFq7y43P2Uu",
        "colab_type": "text"
      },
      "cell_type": "markdown",
      "source": [
        "287 [Find the Duplicate Number](https://leetcode.com/problems/find-the-duplicate-number/)"
      ]
    },
    {
      "metadata": {
        "id": "3Rcxf4yUP2KK",
        "colab_type": "code",
        "colab": {}
      },
      "cell_type": "code",
      "source": [
        "class Solution:\n",
        "    def findDuplicate(self, nums):\n",
        "        \"\"\"\n",
        "        :type nums: List[int]\n",
        "        :rtype: int\n",
        "        \"\"\"\n",
        "        \n",
        "        seen = set()\n",
        "        for num in nums:\n",
        "            if num in seen:\n",
        "                return num\n",
        "            seen.add(num)"
      ],
      "execution_count": 0,
      "outputs": []
    },
    {
      "metadata": {
        "id": "5_cWiaSpSy2-",
        "colab_type": "text"
      },
      "cell_type": "markdown",
      "source": [
        "295 [Find Median from Data Stream](https://leetcode.com/problems/find-median-from-data-stream/)"
      ]
    },
    {
      "metadata": {
        "id": "8_0flGj_Sxoe",
        "colab_type": "code",
        "colab": {}
      },
      "cell_type": "code",
      "source": [
        "import heapq\n",
        "\n",
        "class MinHeap():\n",
        "  \n",
        "    def __init__(self):\n",
        "        self.heap = []\n",
        "    \n",
        "    def push(self, element):\n",
        "        heapq.heappush(self.heap, element)\n",
        "    \n",
        "    def pop(self):\n",
        "        return heapq.heappop(self.heap)\n",
        "  \n",
        "    def peek(self):\n",
        "        return self.heap[0]\n",
        "  \n",
        "    def __len__(self):\n",
        "        return len(self.heap)\n",
        "\n",
        "class MaxHeap():\n",
        "  \n",
        "    def __init__(self):\n",
        "        self.heap = []\n",
        "    \n",
        "    def push(self, element):\n",
        "        heapq.heappush(self.heap, (element*-1))\n",
        "    \n",
        "    def pop(self):\n",
        "        return (heapq.heappop(self.heap))*-1\n",
        "  \n",
        "    def peek(self):\n",
        "        return (self.heap[0]) * -1\n",
        "  \n",
        "    def __len__(self):\n",
        "        return len(self.heap)\n",
        "\n",
        "\n",
        "class MedianFinder(object):\n",
        "\n",
        "    def __init__(self):\n",
        "        \"\"\"\n",
        "        initialize your data structure here.\n",
        "        \"\"\"\n",
        "        self.median = 0.0\n",
        "        self.right = MinHeap()\n",
        "        self.left = MaxHeap()\n",
        "        \n",
        "    \n",
        "    def addNum(self, element):\n",
        "        \n",
        "        if(self.left.__len__() == self.right.__len__()):\n",
        "            if(element < self.median):\n",
        "                self.left.push(element)\n",
        "                self.median = self.left.peek()\n",
        "            else:\n",
        "                self.right.push(element)\n",
        "                self.median = self.right.peek()\n",
        "\n",
        "        elif(self.left.__len__() > self.right.__len__()):\n",
        "            if(element < self.median):\n",
        "                self.right.push(self.left.pop())\n",
        "                self.left.push(element)\n",
        "            else:\n",
        "                self.right.push(element)\n",
        "            self.median = (self.left.peek() + self.right.peek()) / 2.0\n",
        "\n",
        "        elif(self.left.__len__() < self.right.__len__()):\n",
        "            if(element < self.median):\n",
        "                self.left.push(element)\n",
        "            else:\n",
        "                self.left.push(self.right.pop())\n",
        "                self.right.push(element)\n",
        "            self.median = (self.left.peek() + self.right.peek()) / 2.0\n",
        "\n",
        "        \n",
        "    \n",
        "\n",
        "    def findMedian(self):\n",
        "        \"\"\"\n",
        "        :rtype: float\n",
        "        \"\"\"\n",
        "        \n",
        "        return float(self.median)"
      ],
      "execution_count": 0,
      "outputs": []
    },
    {
      "metadata": {
        "id": "peL0viEK9epK",
        "colab_type": "code",
        "outputId": "271a137d-173c-42c1-cd0c-77a380c472ac",
        "colab": {
          "base_uri": "https://localhost:8080/",
          "height": 34
        }
      },
      "cell_type": "code",
      "source": [
        "fib_memo = {0:0, 1:1}\n",
        "ans = {1:1}\n",
        "def fib(n):\n",
        "    if n not in fib_memo:\n",
        "        fib_memo[n] = fib(n-1) + fib(n-2)\n",
        "    return fib_memo[n]\n",
        "\n",
        "fib(12)"
      ],
      "execution_count": 0,
      "outputs": [
        {
          "output_type": "execute_result",
          "data": {
            "text/plain": [
              "144"
            ]
          },
          "metadata": {
            "tags": []
          },
          "execution_count": 5
        }
      ]
    },
    {
      "metadata": {
        "id": "y44QgbZI9iOI",
        "colab_type": "code",
        "colab": {
          "base_uri": "https://localhost:8080/",
          "height": 34
        },
        "outputId": "de88eaa9-a2e1-45c1-fe99-e06680763782"
      },
      "cell_type": "code",
      "source": [
        "1^2^3^4^1^2^2^4"
      ],
      "execution_count": 6,
      "outputs": [
        {
          "output_type": "execute_result",
          "data": {
            "text/plain": [
              "1"
            ]
          },
          "metadata": {
            "tags": []
          },
          "execution_count": 6
        }
      ]
    },
    {
      "metadata": {
        "id": "9ggtMaCTQjbT",
        "colab_type": "code",
        "colab": {}
      },
      "cell_type": "code",
      "source": [
        ""
      ],
      "execution_count": 0,
      "outputs": []
    }
  ]
}