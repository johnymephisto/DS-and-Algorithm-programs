{
  "nbformat": 4,
  "nbformat_minor": 0,
  "metadata": {
    "colab": {
      "name": "Python Leetcode solutions",
      "version": "0.3.2",
      "provenance": [],
      "include_colab_link": true
    },
    "kernelspec": {
      "name": "python3",
      "display_name": "Python 3"
    }
  },
  "cells": [
    {
      "cell_type": "markdown",
      "metadata": {
        "id": "view-in-github",
        "colab_type": "text"
      },
      "source": [
        "<a href=\"https://colab.research.google.com/github/johnymephisto/DS-and-Algorithm-programs/blob/master/Python_Leetcode_solutions.ipynb\" target=\"_parent\"><img src=\"https://colab.research.google.com/assets/colab-badge.svg\" alt=\"Open In Colab\"/></a>"
      ]
    },
    {
      "metadata": {
        "id": "nUfY3RcWB6X8",
        "colab_type": "text"
      },
      "cell_type": "markdown",
      "source": [
        "**Leetcode problems and solutions in Python3**"
      ]
    },
    {
      "metadata": {
        "id": "qb10UjBSB74L",
        "colab_type": "text"
      },
      "cell_type": "markdown",
      "source": [
        "1. [Two sum](https://leetcode.com/problems/two-sum/)"
      ]
    },
    {
      "metadata": {
        "id": "fLsetKpRBzq5",
        "colab_type": "code",
        "colab": {}
      },
      "cell_type": "code",
      "source": [
        "class Solution:\n",
        "    def twoSum(self, nums, target):\n",
        "        \"\"\"\n",
        "        :type nums: List[int]\n",
        "        :type target: int\n",
        "        :rtype: List[int]\n",
        "        \"\"\"\n",
        "        \n",
        "        #hashmap for keeping elements already encountered\n",
        "        m = {}\n",
        "        \n",
        "        for index in range(0, nums.__len__()):\n",
        "            com = target - nums[index]\n",
        "            if(com in m):\n",
        "                return [index, m[com]]\n",
        "            \n",
        "            m[nums[index]] = index"
      ],
      "execution_count": 0,
      "outputs": []
    },
    {
      "metadata": {
        "id": "GFRonlTKCaAq",
        "colab_type": "text"
      },
      "cell_type": "markdown",
      "source": [
        "2. [Add two numbers](https://leetcode.com/problems/add-two-numbers)"
      ]
    },
    {
      "metadata": {
        "id": "Qwo8iNbiCau6",
        "colab_type": "code",
        "colab": {}
      },
      "cell_type": "code",
      "source": [
        "# Definition for singly-linked list.\n",
        "# class ListNode:\n",
        "#     def __init__(self, x):\n",
        "#         self.val = x\n",
        "#         self.next = None\n",
        "\n",
        "class Solution:\n",
        "    def addTwoNumbers(self, l1, l2):\n",
        "        \"\"\"\n",
        "        :type l1: ListNode\n",
        "        :type l2: ListNode\n",
        "        :rtype: ListNode\n",
        "        \"\"\"\n",
        "        headNode = ListNode(0)\n",
        "        \n",
        "        currNode = headNode\n",
        "        carry = 0 \n",
        "        while(l1 is not None or l2 is not None):\n",
        "            x = l1.val if (l1 is not None) else 0 \n",
        "            y = l2.val if (l2 is not None) else 0 \n",
        "            su = x + y + carry\n",
        "            \n",
        "            carry = su//10\n",
        "                \n",
        "            new_node = ListNode(su%10)\n",
        "            currNode.next = new_node\n",
        "            currNode = currNode.next\n",
        "            \n",
        "            if(l1 is not None):\n",
        "                l1 = l1.next\n",
        "            if(l2 is not None):\n",
        "                l2 = l2.next\n",
        "        \n",
        "        \n",
        "                \n",
        "        if(carry > 0):\n",
        "            new_node = ListNode(carry)  \n",
        "            currNode.next = new_node\n",
        "            \n",
        "        return headNode.next"
      ],
      "execution_count": 0,
      "outputs": []
    },
    {
      "metadata": {
        "id": "Iuxg28kMCj8q",
        "colab_type": "text"
      },
      "cell_type": "markdown",
      "source": [
        "3. [Longest Substring Without Repeating Characters](https://leetcode.com/problems/longest-substring-without-repeating-characters/)"
      ]
    },
    {
      "metadata": {
        "id": "9hCo3YR8Csji",
        "colab_type": "code",
        "colab": {}
      },
      "cell_type": "code",
      "source": [
        "class Solution:\n",
        "    def lengthOfLongestSubstring(self, s):\n",
        "        \"\"\"\n",
        "        :type s: str\n",
        "        :rtype: int\n",
        "        \"\"\"\n",
        "       \n",
        "        ma = 0\n",
        "        \n",
        "        dic = {}\n",
        "        start = 0\n",
        "        \n",
        "        for end in range(len(s)):\n",
        "            if(s[end] in dic):\n",
        "                start = max(dic[s[end]] , start)\n",
        "            \n",
        "            ma = max(ma, end-start+1)\n",
        "            dic[s[end]] = end+1\n",
        "            \n",
        "        return ma"
      ],
      "execution_count": 0,
      "outputs": []
    },
    {
      "metadata": {
        "id": "kDD-cqwBDH8C",
        "colab_type": "text"
      },
      "cell_type": "markdown",
      "source": [
        "7. [Reverse Integer](https://leetcode.com/problems/reverse-integer/)"
      ]
    },
    {
      "metadata": {
        "id": "v-OlMwYSDHeS",
        "colab_type": "code",
        "colab": {}
      },
      "cell_type": "code",
      "source": [
        "class Solution:\n",
        "    def reverse(self, x):\n",
        "        \"\"\"\n",
        "        :type x: int\n",
        "        :rtype: int\n",
        "        \"\"\"\n",
        "        \n",
        "        max_32_int = 2147483647\n",
        "        min_32_int = -2147483648\n",
        "        result = int(str(x)[::-1]) if x > 0 else -int(str(x)[::-1].replace('-', ''))\n",
        "        if result > max_32_int or result < min_32_int:\n",
        "            result = 0\n",
        "        return result"
      ],
      "execution_count": 0,
      "outputs": []
    },
    {
      "metadata": {
        "id": "36GvlZTfDY-q",
        "colab_type": "text"
      },
      "cell_type": "markdown",
      "source": [
        "11. [Container With Most Water](https://leetcode.com/problems/container-with-most-water/)"
      ]
    },
    {
      "metadata": {
        "id": "BozwaaivDd7R",
        "colab_type": "code",
        "colab": {}
      },
      "cell_type": "code",
      "source": [
        "class Solution:\n",
        "    def maxArea(self, height):\n",
        "        \"\"\"\n",
        "        :type height: List[int]\n",
        "        :rtype: int\n",
        "        \"\"\"\n",
        "        \n",
        "        m = l = 0\n",
        "        r = height.__len__() - 1\n",
        "        \n",
        "        while(l<r):\n",
        "            m = max(m , min(height[l], height[r]) * (r-l))\n",
        "            if(height[l] < height[r]):\n",
        "                l+=1\n",
        "            else:\n",
        "                r-=1\n",
        "        return m\n",
        "        "
      ],
      "execution_count": 0,
      "outputs": []
    }
  ]
}